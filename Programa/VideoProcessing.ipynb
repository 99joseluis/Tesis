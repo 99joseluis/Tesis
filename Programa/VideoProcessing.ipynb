{
 "cells": [
  {
   "cell_type": "markdown",
   "metadata": {},
   "source": [
    "<h1> Programa para dividir un video en fotos a color  </h1>\n",
    "\n",
    "# En general\n",
    "\n",
    "Parámetros:\n",
    "-   Entrada: Video en formato mp4\n",
    "-   Salida: Lista de imagenes a color guardadas en la carpeta srcImg"
   ]
  },
  {
   "cell_type": "markdown",
   "metadata": {},
   "source": [
    "<h1> Librerias en general </h1>"
   ]
  },
  {
   "cell_type": "code",
   "execution_count": 5,
   "metadata": {},
   "outputs": [],
   "source": [
    "\"\"\"\n",
    "Biblioteca:\n",
    "-   cv2             Manejo de imágenes\n",
    "-   numpy           Manejo de arreglos de pixeles\n",
    "(Prueba)-   cv2_imshow      Parche para mostrar imágenes en Colab\n",
    "\n",
    "-   time            Biblioteca para debuggear\n",
    "-   matplotlib      Manejo de las impresiones de imagenes\n",
    "\"\"\"\n",
    "\n",
    "import os\n",
    "import cv2\n",
    "import numpy as np\n",
    "#from google.colab.patches import cv2_imshow\n",
    "\n",
    "import time \n",
    "from matplotlib import pyplot as plt\n",
    "\n",
    "# Dirección principal (Carpeta base del proyecto)\n",
    "dir = \"c:/Users/jose_/Desktop/Tesis/Programa\"\n",
    "# Direccion de guardado de imágenes\n",
    "outDir = os.getcwd()+\"\\Imagenes\"\n",
    "# Direccion de carga de videos\n",
    "inDir = os.getcwd()+\"\\Videos\"\n",
    "\n"
   ]
  },
  {
   "cell_type": "markdown",
   "metadata": {},
   "source": [
    "<h1> Primer paso </h1>\n",
    "\n",
    "Abrir un video para su procesamiento.\n",
    "\n",
    "Parámetros:\n",
    "- Entrada: Un video en formato mp4\n",
    "- Salida: Una lista de fotogramas a blanco y negro\n",
    "\n",
    "En este caso son obtenidos en una cantidad de 5 a 1, es decir, 5 fotogramas por cada segundo del video"
   ]
  },
  {
   "cell_type": "code",
   "execution_count": 6,
   "metadata": {},
   "outputs": [],
   "source": [
    "os.chdir(dir)"
   ]
  },
  {
   "cell_type": "code",
   "execution_count": 11,
   "metadata": {},
   "outputs": [
    {
     "name": "stdout",
     "output_type": "stream",
     "text": [
      "123\n"
     ]
    }
   ],
   "source": [
    "# Nos movemos a la direccion de base\n",
    "os.chdir(dir)\n",
    "\n",
    "count = 1                                                 # Se inicia un contador de fotogramas\n",
    "vidcap = cv2.VideoCapture( \"srcVid/Video1.mp4\")           # Se abre el video\n",
    "timelapse = float(0.2)                                    # Se crea una variable para determinar el avance del video\n",
    "\n",
    "imgs = list()                                           # Creamos una lista donde guardaremos las imagenes resultantes\n",
    "\n",
    "if not os.path.isdir(outDir):\n",
    "  os.mkdir(outDir)\n",
    "os.chdir(outDir)\n",
    "\n",
    "frames = vidcap.get(cv2.CAP_PROP_FRAME_COUNT)             # Obtenemos los cuadros de imagenes\n",
    "fps = float(vidcap.get(cv2.CAP_PROP_FPS))                 # Obtenemos los segundos totales del video\n",
    "\n",
    "if frames != float(0) or fps != float(0):                 # Si no hay cuadros o segundos en el video no se procede a procesarlo\n",
    "\n",
    "  seconds = int(frames / fps)                             # Calculamos la duracion del video en segundos\n",
    "\n",
    "  success,_ = vidcap.read()                               # Vemos si se puede leer la imagen del video\n",
    "\n",
    "  \n",
    "  while success and (count*timelapse*1000) <= (seconds*1000):   # Mientras se pueda leer un cuadro mas del video y los segundos sean menores a los totales del video\n",
    "\n",
    "      vidcap.set(cv2.CAP_PROP_POS_MSEC,(count*timelapse*1000))  # Avanzamos en el video\n",
    "      success,image = vidcap.read()                             # Empezamos a leer la imagen del video\n",
    "\n",
    "      if success:                                               # Si se leyo la imagen del video correctamente ...\n",
    "        #image = cv2.cvtColor(image, cv2.COLOR_BGR2GRAY)        # La pasamos a escala de grises\n",
    "        image = cv2.resize(image, (128,128))                    # La redimensionamos a 256x256\n",
    "        imgs.append(image)                                      # Agregamos la imagen en la lista de imagenes\n",
    "        #cv2.imshow(\"image\",image)                               # La mostramos para el debug\n",
    "        cv2.imwrite(\"image\"+ str(count ) + \".jpg\", image)       # Guardamos la imagen en una carpeta\n",
    "        \n",
    "        #cv2.waitKey(1)                                          # Creamos un espacio de tiempo para que se logren observar las imagenes\n",
    "\n",
    "      count = count + 1                                   # Incrementamos en 1 el contador de fotogramas\n",
    "\n",
    "print(len(imgs))\n",
    "\n",
    "#cv2.destroyAllWindows()                                  # Nos permite eliminar la ventana emergente en donde se muestran las fotos"
   ]
  }
 ],
 "metadata": {
  "kernelspec": {
   "display_name": "Python 3",
   "language": "python",
   "name": "python3"
  },
  "language_info": {
   "codemirror_mode": {
    "name": "ipython",
    "version": 3
   },
   "file_extension": ".py",
   "mimetype": "text/x-python",
   "name": "python",
   "nbconvert_exporter": "python",
   "pygments_lexer": "ipython3",
   "version": "3.10.4"
  },
  "orig_nbformat": 4
 },
 "nbformat": 4,
 "nbformat_minor": 2
}
