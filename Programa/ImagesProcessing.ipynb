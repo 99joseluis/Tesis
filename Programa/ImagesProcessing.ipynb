{
 "cells": [
  {
   "cell_type": "markdown",
   "metadata": {},
   "source": [
    "<h1> Procesamiento de las imágenes </h1>\n",
    "\n",
    "\n",
    "\n",
    "Para el procesamiento de las imagenes, el primer paso es leerlas de la carpeta correspondiente, la cual se encuentra en la carpeta srcImg, por lo tanto:"
   ]
  },
  {
   "cell_type": "markdown",
   "metadata": {},
   "source": [
    "# Librerias en general"
   ]
  },
  {
   "cell_type": "code",
   "execution_count": 3,
   "metadata": {},
   "outputs": [],
   "source": [
    "\"\"\"\n",
    "Biblioteca:\n",
    "-   cv2             Manejo de imágenes\n",
    "-   numpy           Manejo de arreglos de pixeles\n",
    "(Prueba)-   cv2_imshow      Parche para mostrar imágenes en Colab\n",
    "\n",
    "-   time            Biblioteca para debuggear\n",
    "-   matplotlib      Manejo de las impresiones de imagenes\n",
    "\"\"\"\n",
    "%matplotlib inline\n",
    "\n",
    "import os\n",
    "import cv2\n",
    "import numpy as np\n",
    "import random\n",
    "#from google.colab.patches import cv2_imshow\n",
    "\n",
    "import time \n",
    "from matplotlib import pyplot as plt\n",
    "\n",
    "# Dirección principal\n",
    "dir = \"c:/Users/jose_/Desktop/Tesis/Programa\"\n",
    "# Direccion de guardado de imágenes\n",
    "outDir = os.getcwd()+\"\\Imagenes\"\n",
    "# Direccion de carga de videos\n",
    "inDir = os.getcwd()+\"\\Videos\"\n",
    "#Dirección de guardado de cada canal\n",
    "outChan = os.getcwd()+\"\\Canales\"\n",
    "#Dirección de guardado de los histogramas de cada canal\n",
    "outHist = os.getcwd()+\"\\Histogramas\"\n",
    "\n",
    "\n",
    "\n",
    "# Obteniendo las imagenes\n",
    "global imgs \n",
    "\n",
    "imgs = list()"
   ]
  },
  {
   "cell_type": "code",
   "execution_count": 20,
   "metadata": {},
   "outputs": [],
   "source": [
    "\"\"\"\n",
    "En esta sección se añadirán las funciones realizadas, revisadas y aprobadas para la realización del filtro\n",
    "\"\"\"\n",
    "\n",
    "def getImages(dir):\n",
    "    \"\"\"\n",
    "        getImages nos ayuda a cargar las imagenes de la carpeta Imagenes y guardarlas en la lista imgs, ademas \n",
    "        de guardar el nombre de cada imagen en la misma lista, es decir, guardará las imagenes como una tupla (Imagen, Nombre)  \n",
    "\n",
    "        :param dir: Dirección local de la carpeta Imagenes\n",
    "        :type dir: String\n",
    "        :return: Lista de tuplas (Imagen, Nombre)\n",
    "        :rtype: List\n",
    "    \"\"\"\n",
    "\n",
    "    # Obtenemos el nombre de todos los archivos que se encuentran en la carpeta Imagenes\n",
    "    files = os.listdir(dir)                 \n",
    "\n",
    "    # Creamos un bucle para cada elemento dentro de la carpeta    \n",
    "    for file in files:\n",
    "        # Creamos la variable de la direccion de cada imagen\n",
    "        image_path = dir + \"/\" + file           \n",
    "       \n",
    "        # Leemos la imagen\n",
    "        image = cv2.imread(image_path)   \n",
    "       \n",
    "        # Si por alguna cuestion no se puede leer la imagen o el archivo no es una imagen se descarta en automatico\n",
    "        if image is None:                          \n",
    "            continue\n",
    "        \n",
    "        # Agregamos la tupla de la imagen y su nombre a la lista imgs\n",
    "        imgs.append((image, file))\n",
    "\n",
    "# -----------------------------------------------------------------------------------------------------------------------------------------------\n",
    "\n",
    "def selectContours():\n",
    "    \"\"\"\n",
    "        Método para obtener los limites de los bordes de la pecera, con el fin de recortar las imagenes del mismo tamaño\n",
    "\n",
    "        :return: min, max -> Representan los bordes izquierdos y derechos\n",
    "        :rtype: int, int\n",
    "    \"\"\"\n",
    "\n",
    "    # Valor minimo para la linea extrema izquierda, en este caso se puso un valor alto para que se actualice al encontrar las lineas\n",
    "    min = 0\n",
    "    # Valor maximo para la linea extrema derecha, en este caso se puso un valor alto para que se actualice al encontrar las lineas\n",
    "    max = imgs[0][0].shape[1]\n",
    "\n",
    "\n",
    "    for i, _ in imgs:\n",
    "        img = i.copy()\n",
    "\n",
    "        # Cambio de imagen en color a imagen a escala de grises \n",
    "        imagen_grises = cv2.cvtColor(img, cv2.COLOR_BGR2GRAY)\n",
    "\n",
    "        ret, _ = cv2.threshold(imagen_grises, 0, 255, cv2.THRESH_BINARY + cv2.THRESH_OTSU )\n",
    "\n",
    "        # Canny es el detector de bordes\n",
    "        # Imagen_ grises        Es la imagen fuente a utilizar en escala de grises\n",
    "        # 50                    Valor de umbral minimo, a partir del cual se considera algo un borde\n",
    "        # 150                   Valor de umbral maximo, a partir del cual se considera algo un borde\n",
    "        # ApertureSize          El ancho de la linea de bordes que se deja en la imagen\n",
    "        bordes = cv2.Canny(imagen_grises, 0, ret)\n",
    "\n",
    "        # Detector de lineas\n",
    "        # Bordes es la imagen resultante de aplicar Canny \n",
    "        # 1 es el radio de resolución, es decir, los saltos entre pixeles\n",
    "        # pi/180 Angulo de busqueda, normalmente lleva el valor de 1 grado pero representado en coordenadas polares\n",
    "        # 300 Threshld, pero no es un valor de umbral, se refiere mas bien a la cantidad de puntos minimos para considerar algo una linea \n",
    "        lineas = cv2.HoughLines(bordes, 1, np.pi/180, 200)\n",
    "\n",
    "        # Recorremos las lineas encontradas buscando las de nuestro interés\n",
    "        for linea in lineas:\n",
    "            # Obtenemos los valores del radio y angulo del punto que representa una linea\n",
    "            rho, theta = linea[0]\n",
    "            \n",
    "            # Iniciamos la conversión de coordenadas polares a cartesianas\n",
    "            a = np.cos(theta)\n",
    "            b = np.sin(theta)\n",
    "\n",
    "            # Obtenemos los valores x0 y y0\n",
    "            x0 = a * rho\n",
    "\n",
    "            # A partir de los valores de x0 y y0, creamos dos puntos ((x1,y1), (x2,y2)) con una constante de 1500 para trazar la linea\n",
    "            x1 = int(x0 + 100 * (-b))\n",
    "            x2 = int (x0 - 100 * (-b))\n",
    "\n",
    "            if x1 == x2:\n",
    "                if x1 <= i.shape[1]/2 and x1 > min:\n",
    "                    min = x1\n",
    "                if x1 >= i.shape[1]/2 and x1 < max:\n",
    "                    max = x1\n",
    "\n",
    "    return min, max\n",
    "\n",
    "# -----------------------------------------------------------------------------------------------------------------------------------------------\n",
    "\n",
    "def cropImages(min, max):\n",
    "    \"\"\"\n",
    "        Método para recortar las imagenes\n",
    "\n",
    "        :param min: Limite izquierdo para recortar la imagen\n",
    "        :type min: int\n",
    "        :param max: Limite derecho para recortar la imagen\n",
    "        :type max: int\n",
    "    \"\"\"\n",
    "    crop = list()\n",
    "    for img, name in imgs:\n",
    "        # cv2.rectangle(img, (min, - img.shape[0]) , (max, img.shape[0]), (255,0,0), 10)\n",
    "        crop.append(img[:, min: max])\n",
    "    \n",
    "    for i in range(0, len(imgs)-1):\n",
    "        imgs[i] = (crop[i], imgs[i][1])\n",
    "    \n",
    "# -----------------------------------------------------------------------------------------------------------------------------------------------\n",
    "\n",
    "def showImages():\n",
    "    \"\"\"\n",
    "        Método para mostrar las imagenes\n",
    "    \"\"\"\n",
    "    for img, name in imgs:\n",
    "        cv2.imshow(name, cv2.resize(img, (512,512)))\n",
    "        cv2.waitKey(400)\n",
    "        cv2.destroyAllWindows()\n",
    "\n",
    "\n",
    "def componenteConexa(img, areaLim):\n",
    "    contours, _ = cv2.findContours(img,  \n",
    "                cv2.RETR_EXTERNAL, cv2.CHAIN_APPROX_NONE) \n",
    "\n",
    "    # print(\"He encontrado {} objetos\".format(len(contours)))\n",
    "\n",
    "    for cnt in contours:\n",
    "    #         for i in range(0, len(cnt)):\n",
    "    #                 cv2.drawContours(img, cnt, i, (0, 255, 0), 3)\n",
    "    #                 cv2.imshow('Contours', cv2.resize(img, (512,512))) \n",
    "            area =  cv2.contourArea(cnt)\n",
    "\n",
    "            if(area > areaLim ):\n",
    "                print(area)\n",
    "                cv2.drawContours(img, cnt, -1, (0, 255, 0), 3) \n",
    "\n",
    "    cv2.imshow('Contours', cv2.resize(img, (512,512))) \n",
    "    cv2.waitKey(400)\n",
    "    cv2.destroyAllWindows()"
   ]
  },
  {
   "cell_type": "code",
   "execution_count": 5,
   "metadata": {},
   "outputs": [],
   "source": [
    "# Aqui mandamos a llamar el metodo getImages, este va aparte ya que no siempre hay que leer las imagenes\n",
    "getImages(outDir)"
   ]
  },
  {
   "cell_type": "code",
   "execution_count": 6,
   "metadata": {},
   "outputs": [],
   "source": [
    "min, max = selectContours()\n",
    "cropImages(min, max)"
   ]
  },
  {
   "cell_type": "code",
   "execution_count": 7,
   "metadata": {},
   "outputs": [],
   "source": [
    "\n",
    "showImages()"
   ]
  },
  {
   "cell_type": "markdown",
   "metadata": {},
   "source": [
    "## Procesamiento de las imágenes\n",
    "\n",
    "Para el procesamiento de las imágenes se probaran distintos métodos.\n",
    "\n",
    "-------------------------------------------------------------------------------------------------------\n",
    "\n",
    "### Los métodos a probar son:\n",
    "1. Substracción [cada T frames]\n",
    "\n",
    "2. OTSU + Componente conexa\n",
    "\n",
    "3. GAUSS + OTSU + Componente conexa\n",
    "\n",
    "4. OTSU + SUBSTRACCION + Componente conexa\n",
    "\n",
    "5. GAUSS + ADAPTATIVO +  Componente conexa\n",
    "\n",
    "6. PIXELLIB\n",
    "\n",
    "----------------------------------------------------------------------------------------------------\n"
   ]
  },
  {
   "cell_type": "markdown",
   "metadata": {},
   "source": [
    "# <h1> 1.  Substracción </h1>"
   ]
  },
  {
   "cell_type": "code",
   "execution_count": 8,
   "metadata": {},
   "outputs": [],
   "source": [
    "# Primera prueba Substracción de fotos\n",
    "\n",
    "# Usamos el timelapse que se utilizo para la campura de los fotogramas\n",
    "timelapse = 1\n",
    "# Lo pasamos a numero entero el incremento\n",
    "rate = int(timelapse * 10)\n",
    "\n",
    "# Creamos una lista de imagenes donde se guardaran los resultados\n",
    "images = list()\n",
    "\n",
    "# Creamos un bucle para recorrer las imagenes y substraer la imagen i a la i + rate creando un bucle en el arreglo, es decir\n",
    "# si nos llegaramos a pasar del index del array, este hara el modulo e iniciará de nuevo, por ejemplo 125 % 124 = 1\n",
    "for i in range(0, len(imgs)-1):\n",
    "    images.append(cv2.subtract(imgs[i][0], imgs[(i+rate)%(len(imgs)-1)][0]))\n",
    "    cv2.imshow(\"Image\", cv2.resize(images[i], (512,512)))\n",
    "    cv2.waitKey(200)\n",
    "cv2.destroyAllWindows()"
   ]
  },
  {
   "cell_type": "markdown",
   "metadata": {},
   "source": [
    "# <h1> 2.  Substracción + Threshold </h1>"
   ]
  },
  {
   "cell_type": "code",
   "execution_count": 10,
   "metadata": {},
   "outputs": [],
   "source": [
    "for img in images:\n",
    "     \n",
    "    imagen_grises = cv2.cvtColor(img, cv2.COLOR_BGR2GRAY)\n",
    "    ret, thresh = cv2.threshold(imagen_grises, 0, 255, cv2.THRESH_BINARY + cv2.THRESH_OTSU )\n",
    "\n",
    "    cv2.imshow(\"Image\", cv2.resize(thresh, (512,512)))\n",
    "    cv2.waitKey(300)\n",
    "cv2.destroyAllWindows()"
   ]
  },
  {
   "cell_type": "markdown",
   "metadata": {},
   "source": [
    "# <h1> 3. OTSU + Componente conexa </h1>"
   ]
  },
  {
   "cell_type": "code",
   "execution_count": 13,
   "metadata": {},
   "outputs": [],
   "source": [
    "for i in range(0, len(imgs)-1):\n",
    "        img = imgs[i][0].copy()\n",
    "\n",
    "        # Cambio de imagen en color a imagen a escala de grises \n",
    "        imagen_grises = cv2.cvtColor(img, cv2.COLOR_BGR2GRAY)\n",
    "\n",
    "        ret, _ = cv2.threshold(imagen_grises, 0, 255, cv2.THRESH_BINARY + cv2.THRESH_OTSU )\n",
    "        # ret, _ = cv2.threshold(imagen_grises, 0, 255, cv2.THRESH_OTSU )\n",
    "\n",
    "        # Canny es el detector de bordes\n",
    "        # Imagen_ grises        Es la imagen fuente a utilizar en escala de grises\n",
    "        # 0                     Valor de umbral minimo, a partir del cual se considera algo un borde\n",
    "        # ret                   Valor de umbral maximo, a partir del cual se considera algo un borde\n",
    "        # ApertureSize          El ancho de la linea de bordes que se deja en la imagen\n",
    "        bordes = cv2.Canny(imagen_grises, 0, ret)\n",
    "\n",
    "        cv2.imshow(\"Image\", cv2.resize(bordes, (512,512)))\n",
    "        cv2.waitKey(200)\n",
    "cv2.destroyAllWindows()\n"
   ]
  },
  {
   "cell_type": "markdown",
   "metadata": {},
   "source": [
    "# <h1> 4. GAUSS + OTSU + Componente conexa </h1>"
   ]
  },
  {
   "cell_type": "code",
   "execution_count": 24,
   "metadata": {},
   "outputs": [],
   "source": [
    "gausImages = list()\n",
    "\n",
    "for i in range(0, len(imgs)-1):\n",
    "# for i in range(0, 10):\n",
    "        img = imgs[i][0].copy()\n",
    "\n",
    "        # Cambio de imagen en color a imagen a escala de grises \n",
    "        imagen_grises = cv2.cvtColor(img, cv2.COLOR_BGR2GRAY)\n",
    "\n",
    "        dst = cv2.GaussianBlur(imagen_grises, (5,5), cv2.BORDER_DEFAULT)\n",
    "\n",
    "        ret, _ = cv2.threshold(dst, 0, 255, cv2.THRESH_OTSU )\n",
    "\n",
    "        # Canny es el detector de bordes\n",
    "        # Imagen_ grises        Es la imagen fuente a utilizar en escala de grises\n",
    "        # 50                    Valor de umbral minimo, a partir del cual se considera algo un borde\n",
    "        # 150                   Valor de umbral maximo, a partir del cual se considera algo un borde\n",
    "        # ApertureSize          El ancho de la linea de bordes que se deja en la imagen\n",
    "        # bordes = cv2.Canny(dst, 0, ret)\n",
    "        bordes = cv2.Canny(dst, 1, ret)\n",
    "\n",
    "        gausImages.append(bordes)\n",
    "        # componenteConexa(bordes, 0)\n",
    "\n",
    "        cv2.imshow(\"Image\", cv2.resize(bordes, (512,512)))\n",
    "        cv2.waitKey(500)\n",
    "cv2.destroyAllWindows()"
   ]
  },
  {
   "cell_type": "markdown",
   "metadata": {},
   "source": [
    "# <h1> 4.2 GAUSS + OTSU + Componente Conexa + substracción </h1>"
   ]
  },
  {
   "cell_type": "code",
   "execution_count": 26,
   "metadata": {},
   "outputs": [],
   "source": [
    "for i in range(0, len(gausImages)-1):\n",
    "    img = cv2.subtract(gausImages[i], gausImages[(i+rate)%(len(imgs)-1)])\n",
    "    cv2.imshow(\"Image\", cv2.resize(img, (512,512)))\n",
    "    cv2.waitKey(200)\n",
    "cv2.destroyAllWindows()"
   ]
  },
  {
   "cell_type": "markdown",
   "metadata": {},
   "source": [
    "# <h1> 5. OTSU + SUBSTRACCION + Componente conexa </h1>"
   ]
  },
  {
   "cell_type": "code",
   "execution_count": 28,
   "metadata": {},
   "outputs": [],
   "source": [
    "imagesOtsu = list()\n",
    "rate = timelapse*10\n",
    "\n",
    "for i in range(0, len(imgs)-1):\n",
    "        img = imgs[i][0].copy()\n",
    "\n",
    "        # Cambio de imagen en color a imagen a escala de grises \n",
    "        imagen_grises = cv2.cvtColor(img, cv2.COLOR_BGR2GRAY)\n",
    "\n",
    "        ret, tresh = cv2.threshold(imagen_grises, 0, 255, cv2.THRESH_BINARY + cv2.THRESH_OTSU )\n",
    "\n",
    "        imagesOtsu.append(thresh)\n",
    "        # ret, _ = cv2.threshold(imagen_grises, 0, 255, cv2.THRESH_OTSU )\n",
    "\n",
    "\n",
    "for i in range(0, len(imagesOtsu)-1):\n",
    "\n",
    "        images.append(cv2.subtract(imagesOtsu[i], imagesOtsu[(i+rate)%(len(imgs)-1)]))\n",
    "        # Canny es el detector de bordes\n",
    "        # Imagen_ grises        Es la imagen fuente a utilizar en escala de grises\n",
    "        # 0                     Valor de umbral minimo, a partir del cual se considera algo un borde\n",
    "        # ret                   Valor de umbral maximo, a partir del cual se considera algo un borde\n",
    "        # ApertureSize          El ancho de la linea de bordes que se deja en la imagen\n",
    "        bordes = cv2.Canny(images[i], 0, ret)\n",
    "        \n",
    "        cv2.imshow(\"Image\", cv2.resize(bordes, (512,512)))\n",
    "        cv2.waitKey(400)\n",
    "\n",
    "cv2.destroyAllWindows()"
   ]
  },
  {
   "cell_type": "markdown",
   "metadata": {},
   "source": [
    "# <h1> 6. GAUSS + ADAPTATIVO +  Componente conexa </h1>"
   ]
  },
  {
   "cell_type": "code",
   "execution_count": 30,
   "metadata": {},
   "outputs": [],
   "source": [
    "\n",
    "for i in range(0, len(imgs)-1):\n",
    "    img = imgs[i][0].copy()\n",
    "\n",
    "    imagen_grises = cv2.cvtColor(img, cv2.COLOR_BGR2GRAY)\n",
    "    \n",
    "    dst = cv2.GaussianBlur(imagen_grises, (11,11), cv2.BORDER_DEFAULT)\n",
    "\n",
    "    th2 = cv2.adaptiveThreshold(dst, 255, cv2.ADAPTIVE_THRESH_MEAN_C,\\\n",
    "                                cv2.THRESH_BINARY,11,2)\n",
    "    th3 = cv2.adaptiveThreshold(dst, 255, cv2.ADAPTIVE_THRESH_GAUSSIAN_C,\\\n",
    "                                cv2.THRESH_BINARY,11,2)\n",
    "    \n",
    "    cv2.imshow(\"Thresh MEAN C\", cv2.resize(th2, (512,512)))\n",
    "    cv2.imshow(\"Thresh GAUSSIAN C\", cv2.resize(th3, (512,512)))\n",
    "\n",
    "    cv2.waitKey(400)\n",
    "cv2.destroyAllWindows()"
   ]
  },
  {
   "cell_type": "markdown",
   "metadata": {},
   "source": [
    "# <h1> 6. PIXELLIB </h1>"
   ]
  },
  {
   "cell_type": "markdown",
   "metadata": {},
   "source": [
    "No lo implemente en maquina fisica, solo en Colab.\n",
    "\n",
    "<href> https://colab.research.google.com/drive/1K7l5QOJADiMV02Er_aRMxuBJGeL-0HVr?usp=sharing </href>"
   ]
  }
 ],
 "metadata": {
  "kernelspec": {
   "display_name": "Python 3",
   "language": "python",
   "name": "python3"
  },
  "language_info": {
   "codemirror_mode": {
    "name": "ipython",
    "version": 3
   },
   "file_extension": ".py",
   "mimetype": "text/x-python",
   "name": "python",
   "nbconvert_exporter": "python",
   "pygments_lexer": "ipython3",
   "version": "3.10.4"
  },
  "orig_nbformat": 4
 },
 "nbformat": 4,
 "nbformat_minor": 2
}
